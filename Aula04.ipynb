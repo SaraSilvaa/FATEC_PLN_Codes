{
  "nbformat": 4,
  "nbformat_minor": 0,
  "metadata": {
    "colab": {
      "provenance": [],
      "authorship_tag": "ABX9TyN4IcURP3uar+C2chAEb5VH",
      "include_colab_link": true
    },
    "kernelspec": {
      "name": "python3",
      "display_name": "Python 3"
    },
    "language_info": {
      "name": "python"
    }
  },
  "cells": [
    {
      "cell_type": "markdown",
      "metadata": {
        "id": "view-in-github",
        "colab_type": "text"
      },
      "source": [
        "<a href=\"https://colab.research.google.com/github/SaraSilvaa/FATEC_PLN_Codes/blob/master/Aula04.ipynb\" target=\"_parent\"><img src=\"https://colab.research.google.com/assets/colab-badge.svg\" alt=\"Open In Colab\"/></a>"
      ]
    },
    {
      "cell_type": "markdown",
      "source": [
        "# Aula 4 - Limpeza de dados textuais"
      ],
      "metadata": {
        "id": "xO8qNfdVQTdx"
      }
    },
    {
      "cell_type": "markdown",
      "source": [
        "# 4.1 Normalização de texto e Remoção de Ruído\n",
        "##* Remover caracteres especiais, pontuações, e normalizar o uso de letras maiúsculas e minúsculas"
      ],
      "metadata": {
        "id": "VdZ2RU6jQYY5"
      }
    },
    {
      "cell_type": "code",
      "source": [
        "# importar a bilbioteca que traz as funcionalidades para expressões regulares\n",
        "import re\n",
        "\n",
        "original = \"Olá!!! Este é um exemplo de texto, com várias PONTUAÇÕES, símbolos #especiais, e LETRAS maiúsculas.\"\n",
        "\n",
        "texto_limpo = re.sub(r'[^A-Za-zÀ-ÿ\\s]', '',original)\n",
        "  # realiza a substituição dos caracteres especiais\n",
        "  # re.sub(par1, par2, par3) >>> realizar a busca e a substituição\n",
        "    #par1: r'[^A-Za-zÀ-ÿ\\s]': é o trecho que irá ser buscado para substituir\n",
        "      # A-Za-zÀ-ÿ\\s: os intervalos de texto que serão procurados\n",
        "          # A-Z: busca o intervalo de letras de A até Z\n",
        "          # a-z: busca o intercalo de letras de a até z\n",
        "          # À-ÿ: buscar qualquer letra acentuada\n",
        "      # ^: representa a negação dos valores\n",
        "      # [^A-Za-zÀ-ÿ\\s]: busca todos os valores que não são letras (com ou sem acento)\n",
        "    #par2: '' >>> o termo que eu vou substituir, no caso uma string vazia\n",
        "    #par#: variável que contém o meu texto\n",
        "  # r: o que é o termo r? Pesquisem na documentação\n",
        "\n",
        "\n",
        "texto_normalizado = texto_limpo.lower()\n",
        "  # olá != OLÁ != Olá\n",
        "\n",
        "print(f'Texto original: {original}')\n",
        "print(f'\\nTexto limpo: {texto_limpo}')\n",
        "print(f'\\nTexto normalizado: {texto_normalizado}')"
      ],
      "metadata": {
        "colab": {
          "base_uri": "https://localhost:8080/"
        },
        "id": "-e1CRwd1Qd04",
        "outputId": "eaf81a26-ee18-4ddf-c4f4-e8f30344ba94"
      },
      "execution_count": 1,
      "outputs": [
        {
          "output_type": "stream",
          "name": "stdout",
          "text": [
            "Texto original: Olá!!! Este é um exemplo de texto, com várias PONTUAÇÕES, símbolos #especiais, e LETRAS maiúsculas.\n",
            "\n",
            "Texto limpo: Olá Este é um exemplo de texto com várias PONTUAÇÕES símbolos especiais e LETRAS maiúsculas\n",
            "\n",
            "Texto normalizado: olá este é um exemplo de texto com várias pontuações símbolos especiais e letras maiúsculas\n"
          ]
        }
      ]
    },
    {
      "cell_type": "markdown",
      "source": [
        "# 4.2 Tokenização\n",
        "##* Tokenização é dividir o texto em unidades menores (tokens), que geralmente são palavras ou pontuações."
      ],
      "metadata": {
        "id": "jwoEiTi9QkvA"
      }
    },
    {
      "cell_type": "code",
      "source": [
        "import nltk\n",
        "from nltk.tokenize import word_tokenize\n",
        "nltk.download('punkt')\n",
        "\n",
        "tokens = word_tokenize(texto_normalizado)\n",
        "\n",
        "print(tokens)\n",
        "print(len(tokens))"
      ],
      "metadata": {
        "colab": {
          "base_uri": "https://localhost:8080/"
        },
        "id": "mr-oXf52QoUn",
        "outputId": "def379ce-83de-4731-a134-93cb61a848f7"
      },
      "execution_count": 2,
      "outputs": [
        {
          "output_type": "stream",
          "name": "stderr",
          "text": [
            "[nltk_data] Downloading package punkt to /root/nltk_data...\n",
            "[nltk_data]   Unzipping tokenizers/punkt.zip.\n"
          ]
        },
        {
          "output_type": "stream",
          "name": "stdout",
          "text": [
            "['olá', 'este', 'é', 'um', 'exemplo', 'de', 'texto', 'com', 'várias', 'pontuações', 'símbolos', 'especiais', 'e', 'letras', 'maiúsculas']\n",
            "15\n"
          ]
        }
      ]
    },
    {
      "cell_type": "markdown",
      "source": [
        "# 4.3 Remoção de Stopwords\n",
        "* Stopwords são palavras de pouco valor semântico (como \"de\", \"a\", \"o\") que podem ser removidas para simplificar o texto\n",
        "\n",
        "\n"
      ],
      "metadata": {
        "id": "0ebxKqriQunq"
      }
    },
    {
      "cell_type": "code",
      "source": [
        "from nltk.corpus import stopwords\n",
        "\n",
        "nltk.download('stopwords')\n",
        "\n",
        "stopwords_pt = set(stopwords.words('portuguese'))\n",
        "\n",
        "tokens_sem_stopwords = [palavra for palavra in tokens if palavra.lower() not in stopwords_pt]\n",
        "\n",
        "print(tokens_sem_stopwords)\n",
        "print(len(tokens_sem_stopwords))"
      ],
      "metadata": {
        "colab": {
          "base_uri": "https://localhost:8080/"
        },
        "id": "gu7xzBXrRgyO",
        "outputId": "c2003b2e-5385-4da0-84d4-93aa30e27b8f"
      },
      "execution_count": 3,
      "outputs": [
        {
          "output_type": "stream",
          "name": "stdout",
          "text": [
            "['olá', 'exemplo', 'texto', 'várias', 'pontuações', 'símbolos', 'especiais', 'letras', 'maiúsculas']\n",
            "9\n"
          ]
        },
        {
          "output_type": "stream",
          "name": "stderr",
          "text": [
            "[nltk_data] Downloading package stopwords to /root/nltk_data...\n",
            "[nltk_data]   Unzipping corpora/stopwords.zip.\n"
          ]
        }
      ]
    },
    {
      "cell_type": "markdown",
      "source": [
        "# 4.4 Stemming e Lemalização\n",
        "\n",
        "\n",
        "##*   Stemming reduz as palavras às suas raízes (ou radicais);\n",
        "##*   Lematização normaliza as palavras para suas formas base, levando em conta contexto e gramática."
      ],
      "metadata": {
        "id": "Bsqh4W14Rj_J"
      }
    },
    {
      "cell_type": "code",
      "source": [
        "from nltk.stem import RSLPStemmer\n",
        "\n",
        "nltk.download('rslp')\n",
        "\n",
        "stemmer = RSLPStemmer()\n",
        "stemming = [stemmer.stem(palavra) for palavra in tokens_sem_stopwords]\n",
        "print(stemming)"
      ],
      "metadata": {
        "colab": {
          "base_uri": "https://localhost:8080/"
        },
        "id": "5H45CEACSI_x",
        "outputId": "dd345e4b-1f5b-4e94-ac15-2401a7b4cbb9"
      },
      "execution_count": 4,
      "outputs": [
        {
          "output_type": "stream",
          "name": "stdout",
          "text": [
            "['olá', 'exempl', 'text', 'vár', 'pontu', 'símbol', 'espec', 'letr', 'maiúscul']\n"
          ]
        },
        {
          "output_type": "stream",
          "name": "stderr",
          "text": [
            "[nltk_data] Downloading package rslp to /root/nltk_data...\n",
            "[nltk_data]   Unzipping stemmers/rslp.zip.\n"
          ]
        }
      ]
    },
    {
      "cell_type": "markdown",
      "source": [
        "## 4.5 - Todo o processo que utilizamos na aula"
      ],
      "metadata": {
        "id": "2B-ftVWhSL8N"
      }
    },
    {
      "cell_type": "code",
      "source": [
        "# importação das bibliotecas\n",
        "import nltk\n",
        "import re\n",
        "# importação das funcionalidades\n",
        "from nltk.corpus import stopwords\n",
        "from nltk.stem import PorterStemmer\n",
        "\n",
        "\n",
        "# Download dos recursos do NLTK (se necessário)\n",
        "nltk.download('punkt')\n",
        "nltk.download('stopwords')\n",
        "\n",
        "# Texto de exemplo\n",
        "texto = \"Este é um exemplo de texto com muitas palavras, algumas repetidas outra @não, e pontuação e outros simbolos que não FAzem parte do texto que desejo . Vamos limpar e organizar esse texto. Há também números 123 e caracteres especiais @#$%.\"\n",
        "print(texto)\n",
        "\n",
        "# Limpeza de ruídos e normalização\n",
        "texto_limpo = re.sub(r'[^a-zA-Z]', ' ', texto)  # Remove tudo que não for letra e substitui por espaço\n",
        "texto_lower = texto_limpo.lower()  # Converte para minúsculas\n",
        "print(texto_limpo)\n",
        "print(texto_lower)\n",
        "# Tokenização\n",
        "tokens = nltk.word_tokenize(texto_lower)\n",
        "print(tokens)\n",
        "\n",
        "# Remoção de stopwords\n",
        "stop_words = set(stopwords.words('portuguese'))\n",
        "palavras_filtradas = [palavra for palavra in tokens if palavra not in stop_words]\n",
        "print(palavras_filtradas)\n",
        "\n",
        "# Stemming\n",
        "stemmer = PorterStemmer()\n",
        "palavras_stemizadas = [stemmer.stem(palavra) for palavra in palavras_filtradas]\n",
        "\n",
        "# Impressão do resultado final\n",
        "print(palavras_stemizadas)"
      ],
      "metadata": {
        "colab": {
          "base_uri": "https://localhost:8080/"
        },
        "id": "7qdkIJF_SQ5B",
        "outputId": "24c3e69a-b01c-4cfd-d5ae-9126747c12ef"
      },
      "execution_count": 5,
      "outputs": [
        {
          "output_type": "stream",
          "name": "stdout",
          "text": [
            "Este é um exemplo de texto com muitas palavras, algumas repetidas outra @não, e pontuação e outros simbolos que não FAzem parte do texto que desejo . Vamos limpar e organizar esse texto. Há também números 123 e caracteres especiais @#$%.\n",
            "Este   um exemplo de texto com muitas palavras  algumas repetidas outra  n o  e pontua  o e outros simbolos que n o FAzem parte do texto que desejo   Vamos limpar e organizar esse texto  H  tamb m n meros     e caracteres especiais      \n",
            "este   um exemplo de texto com muitas palavras  algumas repetidas outra  n o  e pontua  o e outros simbolos que n o fazem parte do texto que desejo   vamos limpar e organizar esse texto  h  tamb m n meros     e caracteres especiais      \n",
            "['este', 'um', 'exemplo', 'de', 'texto', 'com', 'muitas', 'palavras', 'algumas', 'repetidas', 'outra', 'n', 'o', 'e', 'pontua', 'o', 'e', 'outros', 'simbolos', 'que', 'n', 'o', 'fazem', 'parte', 'do', 'texto', 'que', 'desejo', 'vamos', 'limpar', 'e', 'organizar', 'esse', 'texto', 'h', 'tamb', 'm', 'n', 'meros', 'e', 'caracteres', 'especiais']\n",
            "['exemplo', 'texto', 'muitas', 'palavras', 'algumas', 'repetidas', 'outra', 'n', 'pontua', 'outros', 'simbolos', 'n', 'fazem', 'parte', 'texto', 'desejo', 'vamos', 'limpar', 'organizar', 'texto', 'h', 'tamb', 'm', 'n', 'meros', 'caracteres', 'especiais']\n",
            "['exemplo', 'texto', 'muita', 'palavra', 'alguma', 'repetida', 'outra', 'n', 'pontua', 'outro', 'simbolo', 'n', 'fazem', 'part', 'texto', 'desejo', 'vamo', 'limpar', 'organizar', 'texto', 'h', 'tamb', 'm', 'n', 'mero', 'caracter', 'especiai']\n"
          ]
        },
        {
          "output_type": "stream",
          "name": "stderr",
          "text": [
            "[nltk_data] Downloading package punkt to /root/nltk_data...\n",
            "[nltk_data]   Package punkt is already up-to-date!\n",
            "[nltk_data] Downloading package stopwords to /root/nltk_data...\n",
            "[nltk_data]   Package stopwords is already up-to-date!\n"
          ]
        }
      ]
    }
  ]
}