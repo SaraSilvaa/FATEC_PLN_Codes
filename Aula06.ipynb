{
  "nbformat": 4,
  "nbformat_minor": 0,
  "metadata": {
    "colab": {
      "provenance": [],
      "authorship_tag": "ABX9TyPKqvVnvUZXlcBoTrUkOPoZ",
      "include_colab_link": true
    },
    "kernelspec": {
      "name": "python3",
      "display_name": "Python 3"
    },
    "language_info": {
      "name": "python"
    }
  },
  "cells": [
    {
      "cell_type": "markdown",
      "metadata": {
        "id": "view-in-github",
        "colab_type": "text"
      },
      "source": [
        "<a href=\"https://colab.research.google.com/github/SaraSilvaa/FATEC_PLN_Codes/blob/master/Aula06.ipynb\" target=\"_parent\"><img src=\"https://colab.research.google.com/assets/colab-badge.svg\" alt=\"Open In Colab\"/></a>"
      ]
    },
    {
      "cell_type": "markdown",
      "source": [
        "#Aula 06 - Representação de texto com Embeddings"
      ],
      "metadata": {
        "id": "elLgLl_4MyS5"
      }
    },
    {
      "cell_type": "markdown",
      "source": [
        "##Exemplo 1: Word2Vec"
      ],
      "metadata": {
        "id": "Htema5wxM-3p"
      }
    },
    {
      "cell_type": "code",
      "execution_count": 3,
      "metadata": {
        "colab": {
          "base_uri": "https://localhost:8080/"
        },
        "id": "0DkedEzlMqDW",
        "outputId": "40a90f18-1ef1-4763-8557-c55da9732dc1"
      },
      "outputs": [
        {
          "output_type": "stream",
          "name": "stdout",
          "text": [
            "\n",
            "Similaridade entre 'cachorro' e 'gato':  0.09868057\n"
          ]
        }
      ],
      "source": [
        "# Abaixo sera importado da ferramenta de vetorização Word2Vec pesquisando a biblioteca na documentação\n",
        "from gensim.models import Word2Vec\n",
        "\n",
        "#Textos a serem analisados\n",
        "corpus = [\n",
        "    [\"o\",\"cachorro\",\"está\",\"latindo\"],\n",
        "    [\"o\",\"gato\",\"está\",\"miando\"]\n",
        "]\n",
        "\n",
        "# Essa etapa serve para treinar as palavras\n",
        "model = Word2Vec(sentences=corpus, vector_size=40,  window=5, min_count=1,sg=1)\n",
        "  # • sentences: Indica o texto que vai ser analizado\n",
        "  # • window: faixa de palavras (antes e depois) que serão analizadas\n",
        "  # • vector_size: tamanho do vetor\n",
        "  # • min_count=1 - quantidade do resultado\n",
        "  # • sg: Modelo que vai ser utilizado\n",
        "  # • 0 - CBOW: Busca a palavra a partir do contexto dado\n",
        "  # • 1 - Skip-gram: Busca o contexto a partir da palavra\n",
        "\n",
        "# Vetorizando a palavra desejada\n",
        "vector = model.wv['cachorro']\n",
        "similarity = model.wv.similarity('cachorro','gato')\n",
        "\n",
        "#print do resultado da vetorização e similaridade\n",
        "print(\"\\nSimilaridade entre 'cachorro' e 'gato': \",similarity)"
      ]
    },
    {
      "cell_type": "code",
      "source": [
        "#Agora vamos usar mais frases a serem analizadas\n",
        "from gensim.models import Word2Vec\n",
        "\n",
        "corpus = [\n",
        "    [\"o\", \"cachorro\", \"está\", \"latindo\", \"no\", \"quintal\"],\n",
        "    [\"o\", \"gato\", \"está\", \"miando\", \"no\", \"telhado\"],\n",
        "    [\"o\", \"pássaro\", \"está\", \"voando\", \"no\", \"céu\"],\n",
        "    [\"a\", \"bola\", \"está\", \"rolando\", \"no\", \"chão\"],\n",
        "    [\"a\", \"criança\", \"está\", \"brincando\", \"com\", \"o\", \"cachorro\"],\n",
        "    [\"o\", \"gato\", \"e\", \"o\", \"rato\", \"são\", \"inimigos\"],\n",
        "    [\"a\", \"água\", \"está\", \"quente\", \"na\", \"caneca\"],\n",
        "    [\"o\", \"sol\", \"está\", \"brilhando\", \"no\", \"céu\"],\n",
        "    [\"a\", \"lua\", \"está\", \"cheia\", \"hoje\"],\n",
        "    [\"a\", \"computador\", \"está\", \"ligado\", \"na\", \"mesa\"]\n",
        "]\n",
        "\n",
        "model = Word2Vec(sentences=corpus, vector_size=100, window=5, min_count=1, sg=1)\n",
        "\n",
        "#Similaridade entre as palavras\n",
        "print(f\"Similaridade entre cachorro e gato: {model.wv.similarity('cachorro', 'gato')}\")\n",
        "print(f\"Similaridade entre cachorro e bola: {model.wv.similarity('cachorro', 'bola')}\")\n",
        "print(f\"Similaridade entre céu e lua: {model.wv.similarity('céu', 'lua')}\")\n",
        "print(f\"Similaridade entre computador e mesa: {model.wv.similarity('computador', 'mesa')}\")"
      ],
      "metadata": {
        "colab": {
          "base_uri": "https://localhost:8080/"
        },
        "id": "GcfcoBYIO--i",
        "outputId": "f1f4cad9-9f37-468c-d714-853b55f2c011"
      },
      "execution_count": 4,
      "outputs": [
        {
          "output_type": "stream",
          "name": "stdout",
          "text": [
            "Similaridade entre cachorro e gato: -0.027537165209650993\n",
            "Similaridade entre cachorro e bola: 0.08071544766426086\n",
            "Similaridade entre céu e lua: 0.16293543577194214\n",
            "Similaridade entre computador e mesa: 0.037479717284440994\n"
          ]
        }
      ]
    },
    {
      "cell_type": "code",
      "source": [
        "from gensim.models import KeyedVectors\n",
        "\n",
        "  #Subi o arquivo no python e indiquei o caminho\n",
        "glove_path = '/content/glove.6B.100d.txt'\n",
        "\n",
        "  # Acesso ao modelo de instanciação\n",
        "glove_model = KeyedVectors.load_word2vec_format(glove_path, binary=False, no_header=True)\n",
        "  # glove_path: Caminho do arquivo a ser utilizado\n",
        "  # binary: Arquivo em texto (False)\n",
        "  # no_header: Ignora o cabeçalho\n",
        "\n",
        "  #Método para acessar a similaridade de duas palavras dentro do modelo treinado\n",
        "similaridade = glove_model.similarity('king',\"queen\")\n",
        "print(\"Similaridade entre 'king' e 'queen': \", similaridade)\n",
        "\n",
        "print('Similaridade entre \"king\" e \"queen\": ', similaridade)\n",
        "\n",
        "  #método de proximidade para uma determinada palavra \"KING\"\n",
        "palavras_proximas = glove_model.most_similar('king')\n",
        "print(f\"Palavras próximas de 'king': {glove_model.most_similar('king')}\")\n",
        "print(f\"Palavras próximas de 'queen': {glove_model.most_similar('queen')}\")"
      ],
      "metadata": {
        "colab": {
          "base_uri": "https://localhost:8080/"
        },
        "id": "6tdkidXgUj6b",
        "outputId": "1b041d69-9987-4e30-9e10-f312f9b14360"
      },
      "execution_count": 11,
      "outputs": [
        {
          "output_type": "stream",
          "name": "stdout",
          "text": [
            "Similaridade entre 'king' e 'queen':  0.7507691\n",
            "Similaridade entre \"king\" e \"queen\":  0.7507691\n",
            "Palavras próximas de 'king': [('prince', 0.7682328820228577), ('queen', 0.7507690787315369), ('son', 0.7020888328552246), ('brother', 0.6985775232315063), ('monarch', 0.6977890729904175), ('throne', 0.6919989585876465), ('kingdom', 0.6811409592628479), ('father', 0.6802029013633728), ('emperor', 0.6712858080863953), ('ii', 0.6676074266433716)]\n",
            "Palavras próximas de 'queen': [('princess', 0.7947245240211487), ('king', 0.7507690191268921), ('elizabeth', 0.7355712056159973), ('royal', 0.7065026164054871), ('lady', 0.7044796943664551), ('victoria', 0.6853758096694946), ('monarch', 0.6683257818222046), ('crown', 0.6680562496185303), ('prince', 0.6640506386756897), ('daughter', 0.6395184397697449)]\n"
          ]
        }
      ]
    },
    {
      "cell_type": "markdown",
      "source": [
        "##Exemplo 3 - FastText\n"
      ],
      "metadata": {
        "id": "1kAqY8CzV8c1"
      }
    },
    {
      "cell_type": "code",
      "source": [
        "#Funcionalidades fasttext e KeyedVectors\n",
        "from gensim.models import fasttext\n",
        "from gensim.models import KeyedVectors\n",
        "\n",
        "#Subi o arquivo no python e indiquei o caminho\n",
        "fasttext_path = '/content/cc.pt.300.vec.gz'\n",
        "# instanciação do objeto\n",
        "fasttext_model = KeyedVectors.load_word2vec_format(fasttext_path, binary=False)\n",
        "\n",
        "# calculo de proximidade\n",
        "similaridade = fasttext_model.similarity('gato','gatinhos')\n",
        "print(f\"Similaridade entre 'gato' e 'gatinho': {similaridade:.4f}\")\n",
        "\n",
        "# calculo das palavras mais próximas\n",
        "palavras_proximas = fasttext_model.most_similar('gato')\n",
        "print(\"Palavras mais próximas de 'gato': \")\n",
        "for palavra, score in palavras_proximas:\n",
        "  print(f\"{palavra}: {score:.4f}\")"
      ],
      "metadata": {
        "colab": {
          "base_uri": "https://localhost:8080/"
        },
        "id": "5RUN73a0V-o4",
        "outputId": "611f263e-85fd-4970-aebc-29eab1407821"
      },
      "execution_count": 13,
      "outputs": [
        {
          "output_type": "stream",
          "name": "stdout",
          "text": [
            "Similaridade entre 'gato' e 'gatinho': 0.5815\n",
            "Palavras mais próximas de 'gato': \n",
            "gatinho: 0.8185\n",
            "cão: 0.7903\n",
            "cachorro: 0.7688\n",
            "gatoO: 0.7448\n",
            "felino: 0.7386\n",
            "cãozinho: 0.7356\n",
            "cachorrinho: 0.7047\n",
            "gato.O: 0.7008\n",
            "gatoe: 0.6934\n",
            "bichinho: 0.6690\n"
          ]
        }
      ]
    }
  ]
}